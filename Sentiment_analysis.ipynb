{
  "nbformat": 4,
  "nbformat_minor": 0,
  "metadata": {
    "colab": {
      "provenance": [],
      "mount_file_id": "1PIWTgbErNPrrflehLgVLTz44Bqp8kXQO",
      "authorship_tag": "ABX9TyN8lE98tl8VwDo7ZaBYacrp",
      "include_colab_link": true
    },
    "kernelspec": {
      "name": "python3",
      "display_name": "Python 3"
    },
    "language_info": {
      "name": "python"
    }
  },
  "cells": [
    {
      "cell_type": "markdown",
      "metadata": {
        "id": "view-in-github",
        "colab_type": "text"
      },
      "source": [
        "<a href=\"https://colab.research.google.com/github/AswinkumarGitHub/ML/blob/main/Sentiment_analysis.ipynb\" target=\"_parent\"><img src=\"https://colab.research.google.com/assets/colab-badge.svg\" alt=\"Open In Colab\"/></a>"
      ]
    },
    {
      "cell_type": "markdown",
      "source": [
        "Loading the libs\n"
      ],
      "metadata": {
        "id": "w6UNUOLDwxFW"
      }
    },
    {
      "cell_type": "code",
      "source": [
        "import pandas as pd \n",
        "import nltk\n",
        "from nltk.sentiment.vader import SentimentIntensityAnalyzer "
      ],
      "metadata": {
        "id": "MvWDuvTDleO4"
      },
      "execution_count": 1,
      "outputs": []
    },
    {
      "cell_type": "markdown",
      "source": [
        "Lexicon acts as a dictionary "
      ],
      "metadata": {
        "id": "Owu2UTY4rUZc"
      }
    },
    {
      "cell_type": "code",
      "source": [
        "nltk.downloader.download('vader_lexicon')\n"
      ],
      "metadata": {
        "colab": {
          "base_uri": "https://localhost:8080/"
        },
        "id": "ilezCOOHqIk0",
        "outputId": "db44d690-d4b1-43db-dd79-4ddd221c08a1"
      },
      "execution_count": 2,
      "outputs": [
        {
          "output_type": "stream",
          "name": "stderr",
          "text": [
            "[nltk_data] Downloading package vader_lexicon to /root/nltk_data...\n"
          ]
        },
        {
          "output_type": "execute_result",
          "data": {
            "text/plain": [
              "True"
            ]
          },
          "metadata": {},
          "execution_count": 2
        }
      ]
    },
    {
      "cell_type": "code",
      "source": [
        "file = '/content/drive/MyDrive/Data/facebook_chats.xlsx'"
      ],
      "metadata": {
        "id": "jddP3BZQre2B"
      },
      "execution_count": 12,
      "outputs": []
    },
    {
      "cell_type": "code",
      "source": [
        "xl = pd.ExcelFile(file)#Read from excel "
      ],
      "metadata": {
        "id": "bQQvVqiirvZo"
      },
      "execution_count": 13,
      "outputs": []
    },
    {
      "cell_type": "markdown",
      "source": [
        "Conv the excel to dataframes"
      ],
      "metadata": {
        "id": "BY6CWpZzsHEI"
      }
    },
    {
      "cell_type": "code",
      "source": [
        "dfs = xl.parse(xl.sheet_names[0])"
      ],
      "metadata": {
        "id": "bxNpaidlr4mQ"
      },
      "execution_count": 14,
      "outputs": []
    },
    {
      "cell_type": "markdown",
      "source": [
        "Deleting the blank rows\n"
      ],
      "metadata": {
        "id": "8SlHTD4Rsjsw"
      }
    },
    {
      "cell_type": "code",
      "source": [
        "dfs = list(dfs['Message'])\n",
        "print(dfs)"
      ],
      "metadata": {
        "colab": {
          "base_uri": "https://localhost:8080/"
        },
        "id": "dLxwEFTasiY5",
        "outputId": "8f582e87-0ef3-4460-91d5-3aaa006aff2b"
      },
      "execution_count": 15,
      "outputs": [
        {
          "output_type": "stream",
          "name": "stdout",
          "text": [
            "['Aswin', 'Where are you located?', 'Aswin', 'I love your art works!', 'Naveen', 'You are now connected on Messenger', 'Aswin', 'I hate ur drawings brother', 'Naveen', 'The new design is awful!', 'Aswin', 'I not sure about ur drawing', 'Naveen', 'No one has able to understand my issue or process the redund I was promised ', 'Aswin', 'I don’t like doing my Home works', 'Naveen', 'Can you help out finish my works ? ']\n"
          ]
        }
      ]
    },
    {
      "cell_type": "code",
      "source": [
        "sid = SentimentIntensityAnalyzer()"
      ],
      "metadata": {
        "id": "ecYllUmlulCt"
      },
      "execution_count": 16,
      "outputs": []
    },
    {
      "cell_type": "code",
      "source": [
        "str1 = \"Aswin\"\n",
        "str2 = \"Naveen\"\n",
        "for data in dfs:\n",
        "  a=data.find(str1)\n",
        "  b= data.find(str2)\n",
        "  if(a==-1 and b==-1):\n",
        "    ss = sid.polarity_scores(data)\n",
        "    print(data)\n",
        "    for k in ss:\n",
        "      print(k,ss[k])"
      ],
      "metadata": {
        "colab": {
          "base_uri": "https://localhost:8080/"
        },
        "id": "_JwjenNKuybq",
        "outputId": "c18f5bec-158f-4d64-a5d8-8c7b0e73e6a4"
      },
      "execution_count": 19,
      "outputs": [
        {
          "output_type": "stream",
          "name": "stdout",
          "text": [
            "Where are you located?\n",
            "neg 0.0\n",
            "neu 1.0\n",
            "pos 0.0\n",
            "compound 0.0\n",
            "I love your art works!\n",
            "neg 0.0\n",
            "neu 0.4\n",
            "pos 0.6\n",
            "compound 0.6696\n",
            "You are now connected on Messenger\n",
            "neg 0.0\n",
            "neu 1.0\n",
            "pos 0.0\n",
            "compound 0.0\n",
            "I hate ur drawings brother\n",
            "neg 0.552\n",
            "neu 0.448\n",
            "pos 0.0\n",
            "compound -0.5719\n",
            "The new design is awful!\n",
            "neg 0.451\n",
            "neu 0.549\n",
            "pos 0.0\n",
            "compound -0.5093\n",
            "I not sure about ur drawing\n",
            "neg 0.329\n",
            "neu 0.671\n",
            "pos 0.0\n",
            "compound -0.2411\n",
            "No one has able to understand my issue or process the redund I was promised \n",
            "neg 0.132\n",
            "neu 0.719\n",
            "pos 0.15\n",
            "compound 0.0772\n",
            "I don’t like doing my Home works\n",
            "neg 0.0\n",
            "neu 0.667\n",
            "pos 0.333\n",
            "compound 0.3612\n",
            "Can you help out finish my works ? \n",
            "neg 0.0\n",
            "neu 0.69\n",
            "pos 0.31\n",
            "compound 0.4019\n"
          ]
        }
      ]
    },
    {
      "cell_type": "markdown",
      "source": [
        "Compound is the Aggregated of all the sentiment "
      ],
      "metadata": {
        "id": "kVBc5PZEwe9i"
      }
    }
  ]
}